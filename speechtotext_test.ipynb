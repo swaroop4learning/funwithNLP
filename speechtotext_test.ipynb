{
 "cells": [
  {
   "cell_type": "code",
   "execution_count": 43,
   "metadata": {},
   "outputs": [],
   "source": [
    "import speech_recognition as sr"
   ]
  },
  {
   "cell_type": "code",
   "execution_count": 33,
   "metadata": {},
   "outputs": [],
   "source": [
    "#pip install SpeechRecognition"
   ]
  },
  {
   "cell_type": "code",
   "execution_count": 34,
   "metadata": {},
   "outputs": [],
   "source": [
    "#pip install PyAudio"
   ]
  },
  {
   "cell_type": "code",
   "execution_count": 35,
   "metadata": {},
   "outputs": [],
   "source": [
    "import webbrowser as wb"
   ]
  },
  {
   "cell_type": "code",
   "execution_count": 36,
   "metadata": {},
   "outputs": [],
   "source": [
    "r1 = sr.Recognizer()\n",
    "r2 = sr.Recognizer()\n",
    "r3 = sr.Recognizer()"
   ]
  },
  {
   "cell_type": "code",
   "execution_count": 4,
   "metadata": {},
   "outputs": [
    {
     "name": "stdout",
     "output_type": "stream",
     "text": [
      "[search edureka: search youtube]\n",
      "speak now\n",
      "search your query\n",
      "Python programming\n"
     ]
    }
   ],
   "source": [
    "with sr.Microphone() as source:\n",
    "    print('[search edureka: search youtube]')\n",
    "    print('speak now')\n",
    "    audio = r3.listen(source)\n",
    "    \n",
    "if 'search' in r2.recognize_google(audio):\n",
    "    r2 = sr.Recognizer()\n",
    "    url = 'https://www.google.com/search?q='\n",
    "    with sr.Microphone() as source:\n",
    "        print('search your query')\n",
    "        audio = r2.listen(source)\n",
    "        \n",
    "        try:\n",
    "            get = r2.recognize_google(audio)\n",
    "            print(get)\n",
    "            wb.get().open_new_tab(url+get)\n",
    "        except sr.UnknownValueError:\n",
    "            print('error occured')\n",
    "        except sr.RequestError as e:\n",
    "            print('failed'.format(e))\n",
    "\n",
    "            \n",
    "if 'video' in r1.recognize_google(audio):\n",
    "    r1 = sr.Recognizer()\n",
    "    url = 'https://www.youtube.com/results?search_query='\n",
    "    with sr.Microphone() as source:\n",
    "        print('search your query')\n",
    "        audio = r1.listen(source)\n",
    "        \n",
    "        try:\n",
    "            get = r1.recognize_google(audio)\n",
    "            print(get)\n",
    "            wb.get().open_new_tab(url+get)\n",
    "        except sr.UnknownValueError:\n",
    "            print('error occured')\n",
    "        except sr.RequestError as e:\n",
    "            print('failed'.format(e))\n",
    "\n"
   ]
  },
  {
   "cell_type": "code",
   "execution_count": 41,
   "metadata": {},
   "outputs": [],
   "source": [
    "flag = True"
   ]
  },
  {
   "cell_type": "code",
   "execution_count": 42,
   "metadata": {},
   "outputs": [
    {
     "name": "stdout",
     "output_type": "stream",
     "text": [
      "[search google: say Thank You]\n",
      "speak now\n",
      "okay detected\n",
      "search your query\n",
      "what is P value\n",
      "[search google: say Thank You]\n",
      "speak now\n",
      "okay detected\n",
      "search your query\n",
      "how random forest works\n",
      "[search google: say Thank You]\n",
      "speak now\n",
      "okay detected\n",
      "search your query\n",
      "how to handle class imbalance\n",
      "[search google: say Thank You]\n",
      "speak now\n",
      "[search google: say Thank You]\n",
      "speak now\n",
      "[search google: say Thank You]\n",
      "speak now\n",
      "okay detected\n",
      "search your query\n",
      "the assumptions of linear regression\n",
      "[search google: say Thank You]\n",
      "speak now\n",
      "okay detected\n",
      "search your query\n",
      "how conditional probability works\n",
      "[search google: say Thank You]\n",
      "speak now\n",
      "okay detected\n",
      "search your query\n",
      "explain language modelling\n",
      "[search google: say Thank You]\n",
      "speak now\n",
      "okay detected\n",
      "search your query\n",
      "what is hidden Markov model\n",
      "[search google: say Thank You]\n",
      "speak now\n",
      "okay detected\n",
      "search your query\n",
      "ok\n",
      "[search google: say Thank You]\n",
      "speak now\n"
     ]
    },
    {
     "ename": "UnknownValueError",
     "evalue": "",
     "output_type": "error",
     "traceback": [
      "\u001b[0;31m---------------------------------------------------------------------------\u001b[0m",
      "\u001b[0;31mUnknownValueError\u001b[0m                         Traceback (most recent call last)",
      "\u001b[0;32m<ipython-input-42-741422c96c62>\u001b[0m in \u001b[0;36m<module>\u001b[0;34m\u001b[0m\n\u001b[1;32m      5\u001b[0m         \u001b[0maudio\u001b[0m \u001b[0;34m=\u001b[0m \u001b[0mr3\u001b[0m\u001b[0;34m.\u001b[0m\u001b[0mlisten\u001b[0m\u001b[0;34m(\u001b[0m\u001b[0msource\u001b[0m\u001b[0;34m)\u001b[0m\u001b[0;34m\u001b[0m\u001b[0;34m\u001b[0m\u001b[0m\n\u001b[1;32m      6\u001b[0m \u001b[0;34m\u001b[0m\u001b[0m\n\u001b[0;32m----> 7\u001b[0;31m     \u001b[0;32mif\u001b[0m \u001b[0;34m'ok'\u001b[0m \u001b[0;32min\u001b[0m \u001b[0mr2\u001b[0m\u001b[0;34m.\u001b[0m\u001b[0mrecognize_google\u001b[0m\u001b[0;34m(\u001b[0m\u001b[0maudio\u001b[0m\u001b[0;34m)\u001b[0m\u001b[0;34m:\u001b[0m\u001b[0;34m\u001b[0m\u001b[0;34m\u001b[0m\u001b[0m\n\u001b[0m\u001b[1;32m      8\u001b[0m         \u001b[0mprint\u001b[0m\u001b[0;34m(\u001b[0m\u001b[0;34m'okay detected'\u001b[0m\u001b[0;34m)\u001b[0m\u001b[0;34m\u001b[0m\u001b[0;34m\u001b[0m\u001b[0m\n\u001b[1;32m      9\u001b[0m         \u001b[0mr2\u001b[0m \u001b[0;34m=\u001b[0m \u001b[0msr\u001b[0m\u001b[0;34m.\u001b[0m\u001b[0mRecognizer\u001b[0m\u001b[0;34m(\u001b[0m\u001b[0;34m)\u001b[0m\u001b[0;34m\u001b[0m\u001b[0;34m\u001b[0m\u001b[0m\n",
      "\u001b[0;32m/anaconda3/envs/training/lib/python3.6/site-packages/speech_recognition/__init__.py\u001b[0m in \u001b[0;36mrecognize_google\u001b[0;34m(self, audio_data, key, language, show_all)\u001b[0m\n\u001b[1;32m    856\u001b[0m         \u001b[0;31m# return results\u001b[0m\u001b[0;34m\u001b[0m\u001b[0;34m\u001b[0m\u001b[0;34m\u001b[0m\u001b[0m\n\u001b[1;32m    857\u001b[0m         \u001b[0;32mif\u001b[0m \u001b[0mshow_all\u001b[0m\u001b[0;34m:\u001b[0m \u001b[0;32mreturn\u001b[0m \u001b[0mactual_result\u001b[0m\u001b[0;34m\u001b[0m\u001b[0;34m\u001b[0m\u001b[0m\n\u001b[0;32m--> 858\u001b[0;31m         \u001b[0;32mif\u001b[0m \u001b[0;32mnot\u001b[0m \u001b[0misinstance\u001b[0m\u001b[0;34m(\u001b[0m\u001b[0mactual_result\u001b[0m\u001b[0;34m,\u001b[0m \u001b[0mdict\u001b[0m\u001b[0;34m)\u001b[0m \u001b[0;32mor\u001b[0m \u001b[0mlen\u001b[0m\u001b[0;34m(\u001b[0m\u001b[0mactual_result\u001b[0m\u001b[0;34m.\u001b[0m\u001b[0mget\u001b[0m\u001b[0;34m(\u001b[0m\u001b[0;34m\"alternative\"\u001b[0m\u001b[0;34m,\u001b[0m \u001b[0;34m[\u001b[0m\u001b[0;34m]\u001b[0m\u001b[0;34m)\u001b[0m\u001b[0;34m)\u001b[0m \u001b[0;34m==\u001b[0m \u001b[0;36m0\u001b[0m\u001b[0;34m:\u001b[0m \u001b[0;32mraise\u001b[0m \u001b[0mUnknownValueError\u001b[0m\u001b[0;34m(\u001b[0m\u001b[0;34m)\u001b[0m\u001b[0;34m\u001b[0m\u001b[0;34m\u001b[0m\u001b[0m\n\u001b[0m\u001b[1;32m    859\u001b[0m \u001b[0;34m\u001b[0m\u001b[0m\n\u001b[1;32m    860\u001b[0m         \u001b[0;32mif\u001b[0m \u001b[0;34m\"confidence\"\u001b[0m \u001b[0;32min\u001b[0m \u001b[0mactual_result\u001b[0m\u001b[0;34m[\u001b[0m\u001b[0;34m\"alternative\"\u001b[0m\u001b[0;34m]\u001b[0m\u001b[0;34m:\u001b[0m\u001b[0;34m\u001b[0m\u001b[0;34m\u001b[0m\u001b[0m\n",
      "\u001b[0;31mUnknownValueError\u001b[0m: "
     ]
    }
   ],
   "source": [
    "while flag:\n",
    "    with sr.Microphone() as source:\n",
    "        print('[search google: say Thank You]')\n",
    "        print('speak now')\n",
    "        audio = r3.listen(source)\n",
    "    \n",
    "    if 'ok' in r2.recognize_google(audio):\n",
    "        print('okay detected')\n",
    "        r2 = sr.Recognizer()\n",
    "        url = 'https://www.google.com/search?q='\n",
    "        with sr.Microphone() as source:\n",
    "            print('search your query')\n",
    "            audio = r2.listen(source)\n",
    "        \n",
    "            try:\n",
    "                get = r2.recognize_google(audio)\n",
    "                print(get)\n",
    "                wb.get().open_new_tab(url+get)\n",
    "            except sr.UnknownValueError:\n",
    "                print('error occured')\n",
    "            except sr.RequestError as e:\n",
    "                print('failed'.format(e))\n",
    "    \n",
    "    if 'thank' in r1.recognize_google(audio):\n",
    "        flag = False\n",
    "    "
   ]
  },
  {
   "cell_type": "code",
   "execution_count": null,
   "metadata": {},
   "outputs": [],
   "source": [
    "elif 'thank' not in r2.recognize_google(audio):\n",
    "        r2 = sr.Recognizer()\n",
    "        url = 'https://www.google.com/search?q='\n",
    "        try:\n",
    "            get = r2.recognize_google(audio)\n",
    "            print(get)\n",
    "            wb.get().open_new_tab(url+get)\n",
    "        except sr.UnknownValueError:\n",
    "            print('error occured')\n",
    "        except sr.RequestError as e:\n",
    "            print('failed'.format(e))\n",
    "        with sr.Microphone() as source:\n",
    "            print('search your query')\n",
    "            audio = r2.listen(source)"
   ]
  },
  {
   "cell_type": "code",
   "execution_count": 11,
   "metadata": {},
   "outputs": [],
   "source": [
    "#conda install PyAudio"
   ]
  },
  {
   "cell_type": "code",
   "execution_count": null,
   "metadata": {},
   "outputs": [],
   "source": []
  }
 ],
 "metadata": {
  "kernelspec": {
   "display_name": "Python 3",
   "language": "python",
   "name": "python3"
  },
  "language_info": {
   "codemirror_mode": {
    "name": "ipython",
    "version": 3
   },
   "file_extension": ".py",
   "mimetype": "text/x-python",
   "name": "python",
   "nbconvert_exporter": "python",
   "pygments_lexer": "ipython3",
   "version": "3.6.8"
  }
 },
 "nbformat": 4,
 "nbformat_minor": 2
}
